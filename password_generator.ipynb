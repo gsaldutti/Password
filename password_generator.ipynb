{
 "cells": [
  {
   "cell_type": "code",
   "execution_count": null,
   "id": "38a1b691-0567-4868-b023-2e8e4b15d90b",
   "metadata": {},
   "outputs": [],
   "source": [
    "from random import random\n",
    "import nltk\n",
    "from nltk.corpus import wordnet\n",
    "import random\n",
    "\n",
    "#you will need to download this data set if you do not already have it loaded as it does not come preinstalled with NLTK\n",
    "#nltk.download('omw-1.4')\n",
    "\n",
    "def password_generator():\n",
    "    password = ''\n",
    "    special_Characters  = '!\"£$%^&*()[]:;@#~?<>'\n",
    "    divider = lambda x: random.choice(x)\n",
    "    doubler = lambda x: x + x\n",
    "    password = doubler(divider(special_Characters))\n",
    "    city = input('What is a city you like that you have visited?')\n",
    "    password = password + city + doubler(divider(special_Characters))\n",
    "    word1 = input('What is a word that you like (do not type a name) ')\n",
    "    def synonym(x):\n",
    "        synonym_list =[]\n",
    "        for syn in wordnet.synsets(x): \n",
    "            for lemm in syn.lemmas(): \n",
    "                synonym_list.append(lemm.name())\n",
    "        return random.choice(synonym_list)\n",
    "    password = password + synonym(word1) + doubler(divider(special_Characters))\n",
    "    word2 = input('What is a second word that you like (do not type a name) ')\n",
    "    password = password + synonym(word2) + str(random.randint(0,99))\n",
    "    return print(password)\n",
    "\n",
    "password_generator()"
   ]
  },
  {
   "cell_type": "markdown",
   "id": "2d466284-fb35-48af-b18e-c67da5927a0e",
   "metadata": {},
   "source": [
    "https://bitwarden.com/password-strength/"
   ]
  }
 ],
 "metadata": {
  "kernelspec": {
   "display_name": "Python 3 (ipykernel)",
   "language": "python",
   "name": "python3"
  },
  "language_info": {
   "codemirror_mode": {
    "name": "ipython",
    "version": 3
   },
   "file_extension": ".py",
   "mimetype": "text/x-python",
   "name": "python",
   "nbconvert_exporter": "python",
   "pygments_lexer": "ipython3",
   "version": "3.7.11"
  }
 },
 "nbformat": 4,
 "nbformat_minor": 5
}
